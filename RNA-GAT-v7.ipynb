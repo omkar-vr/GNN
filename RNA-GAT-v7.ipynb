{
 "cells": [
  {
   "cell_type": "code",
   "execution_count": 6,
   "metadata": {},
   "outputs": [],
   "source": [
    "import numpy as np\n",
    "import pandas as pd\n",
    "import matplotlib.pyplot as plt\n",
    "import seaborn as sns\n",
    "from keras.models import Sequential\n",
    "from keras.layers import Dense\n",
    "from keras.layers import LSTM, Layer, Input\n",
    "from keras.layers.embeddings import Embedding\n",
    "from keras.preprocessing import sequence\n",
    "from keras.preprocessing.text import Tokenizer\n",
    "from sklearn.preprocessing import OneHotEncoder\n",
    "from sklearn.metrics import confusion_matrix\n",
    "import tensorflow as tf\n",
    "import warnings\n",
    "warnings.filterwarnings('ignore')"
   ]
  },
  {
   "cell_type": "code",
   "execution_count": 7,
   "metadata": {},
   "outputs": [],
   "source": [
    "import scipy.io as sio\n",
    "mat_contents = sio.loadmat('/Users/omkarpradhan/PhD/RNA-GAT/sortseq_PL2017_semiraw.mat')"
   ]
  },
  {
   "cell_type": "code",
   "execution_count": 8,
   "metadata": {},
   "outputs": [],
   "source": [
    "ix100=mat_contents['num_sorted_cells'][:,0]>20\n",
    "mn=mat_contents['repression_log2fold'][:,0][ix100]"
   ]
  },
  {
   "cell_type": "code",
   "execution_count": 9,
   "metadata": {},
   "outputs": [
    {
     "name": "stdout",
     "output_type": "stream",
     "text": [
      "11068\n"
     ]
    },
    {
     "data": {
      "text/plain": [
       "22978"
      ]
     },
     "execution_count": 9,
     "metadata": {},
     "output_type": "execute_result"
    }
   ],
   "source": [
    "print(sum(mn>-1.7+2*mn[0]))\n",
    "sum(mn<+1.5-mn[0])"
   ]
  },
  {
   "cell_type": "code",
   "execution_count": 10,
   "metadata": {},
   "outputs": [],
   "source": [
    "seq=mat_contents['srna_variant_sequence'][0,:]"
   ]
  },
  {
   "cell_type": "code",
   "execution_count": 11,
   "metadata": {},
   "outputs": [],
   "source": [
    "df = pd.DataFrame()"
   ]
  },
  {
   "cell_type": "code",
   "execution_count": 12,
   "metadata": {},
   "outputs": [],
   "source": [
    "df[0]=seq\n",
    "df[1]=mat_contents['num_sorted_cells'][:,0]\n",
    "df[2]=mat_contents['repression_log2fold'][:,0]"
   ]
  },
  {
   "cell_type": "code",
   "execution_count": 13,
   "metadata": {},
   "outputs": [
    {
     "data": {
      "text/html": [
       "<div>\n",
       "<style scoped>\n",
       "    .dataframe tbody tr th:only-of-type {\n",
       "        vertical-align: middle;\n",
       "    }\n",
       "\n",
       "    .dataframe tbody tr th {\n",
       "        vertical-align: top;\n",
       "    }\n",
       "\n",
       "    .dataframe thead th {\n",
       "        text-align: right;\n",
       "    }\n",
       "</style>\n",
       "<table border=\"1\" class=\"dataframe\">\n",
       "  <thead>\n",
       "    <tr style=\"text-align: right;\">\n",
       "      <th></th>\n",
       "      <th>0</th>\n",
       "      <th>1</th>\n",
       "      <th>2</th>\n",
       "      <th>3</th>\n",
       "    </tr>\n",
       "  </thead>\n",
       "  <tbody>\n",
       "    <tr>\n",
       "      <th>0</th>\n",
       "      <td>[GCGATCAGGAAGACCCTCGCGGAGAACCTGAAAGCACGACATTGC...</td>\n",
       "      <td>1.307453e+06</td>\n",
       "      <td>1.185385</td>\n",
       "      <td>1</td>\n",
       "    </tr>\n",
       "    <tr>\n",
       "      <th>1</th>\n",
       "      <td>[GGGATCAGGAAGACCCTCGCGGAGAACCTGAAAGCACGACATTGC...</td>\n",
       "      <td>5.656106e+02</td>\n",
       "      <td>0.760595</td>\n",
       "      <td>1</td>\n",
       "    </tr>\n",
       "    <tr>\n",
       "      <th>2</th>\n",
       "      <td>[GTGATCAGGAAGACCCTCGCGGAGAACCTGAAAGCACGACATTGC...</td>\n",
       "      <td>9.390448e+03</td>\n",
       "      <td>0.951566</td>\n",
       "      <td>1</td>\n",
       "    </tr>\n",
       "    <tr>\n",
       "      <th>3</th>\n",
       "      <td>[GCAATCAGGAAGACCCTCGCGGAGAACCTGAAAGCACGACATTGC...</td>\n",
       "      <td>4.130174e+03</td>\n",
       "      <td>1.077707</td>\n",
       "      <td>1</td>\n",
       "    </tr>\n",
       "    <tr>\n",
       "      <th>4</th>\n",
       "      <td>[GCCATCAGGAAGACCCTCGCGGAGAACCTGAAAGCACGACATTGC...</td>\n",
       "      <td>4.505613e+02</td>\n",
       "      <td>0.782201</td>\n",
       "      <td>1</td>\n",
       "    </tr>\n",
       "    <tr>\n",
       "      <th>...</th>\n",
       "      <td>...</td>\n",
       "      <td>...</td>\n",
       "      <td>...</td>\n",
       "      <td>...</td>\n",
       "    </tr>\n",
       "    <tr>\n",
       "      <th>34041</th>\n",
       "      <td>[GCGATCTGGAAGACCCTCGCGGAGAACCTGAAAGCACGCCGTTGC...</td>\n",
       "      <td>2.885604e+01</td>\n",
       "      <td>0.057488</td>\n",
       "      <td>0</td>\n",
       "    </tr>\n",
       "    <tr>\n",
       "      <th>34042</th>\n",
       "      <td>[GTGATCTGGAAGACCCTCGCGGAGAACCTGAAAGCACGACATTGC...</td>\n",
       "      <td>2.106996e+01</td>\n",
       "      <td>0.083441</td>\n",
       "      <td>0</td>\n",
       "    </tr>\n",
       "    <tr>\n",
       "      <th>34043</th>\n",
       "      <td>[GCGATCAGGAAGACCCTCGCGGAGAACCTGAAAGCACGACATTGC...</td>\n",
       "      <td>2.200373e+01</td>\n",
       "      <td>0.257405</td>\n",
       "      <td>0</td>\n",
       "    </tr>\n",
       "    <tr>\n",
       "      <th>34044</th>\n",
       "      <td>[GCGATCAGGAAGACCTTCGCGGAGAACCTGAAAGCACGACACTGC...</td>\n",
       "      <td>2.276188e+01</td>\n",
       "      <td>-0.689096</td>\n",
       "      <td>0</td>\n",
       "    </tr>\n",
       "    <tr>\n",
       "      <th>34045</th>\n",
       "      <td>[GCGATCAGGAAGACCCTCGCGGAGAACCTGAAAGCACGACATTTC...</td>\n",
       "      <td>2.176851e+01</td>\n",
       "      <td>-0.013422</td>\n",
       "      <td>0</td>\n",
       "    </tr>\n",
       "  </tbody>\n",
       "</table>\n",
       "<p>34046 rows × 4 columns</p>\n",
       "</div>"
      ],
      "text/plain": [
       "                                                       0             1  \\\n",
       "0      [GCGATCAGGAAGACCCTCGCGGAGAACCTGAAAGCACGACATTGC...  1.307453e+06   \n",
       "1      [GGGATCAGGAAGACCCTCGCGGAGAACCTGAAAGCACGACATTGC...  5.656106e+02   \n",
       "2      [GTGATCAGGAAGACCCTCGCGGAGAACCTGAAAGCACGACATTGC...  9.390448e+03   \n",
       "3      [GCAATCAGGAAGACCCTCGCGGAGAACCTGAAAGCACGACATTGC...  4.130174e+03   \n",
       "4      [GCCATCAGGAAGACCCTCGCGGAGAACCTGAAAGCACGACATTGC...  4.505613e+02   \n",
       "...                                                  ...           ...   \n",
       "34041  [GCGATCTGGAAGACCCTCGCGGAGAACCTGAAAGCACGCCGTTGC...  2.885604e+01   \n",
       "34042  [GTGATCTGGAAGACCCTCGCGGAGAACCTGAAAGCACGACATTGC...  2.106996e+01   \n",
       "34043  [GCGATCAGGAAGACCCTCGCGGAGAACCTGAAAGCACGACATTGC...  2.200373e+01   \n",
       "34044  [GCGATCAGGAAGACCTTCGCGGAGAACCTGAAAGCACGACACTGC...  2.276188e+01   \n",
       "34045  [GCGATCAGGAAGACCCTCGCGGAGAACCTGAAAGCACGACATTTC...  2.176851e+01   \n",
       "\n",
       "              2  3  \n",
       "0      1.185385  1  \n",
       "1      0.760595  1  \n",
       "2      0.951566  1  \n",
       "3      1.077707  1  \n",
       "4      0.782201  1  \n",
       "...         ... ..  \n",
       "34041  0.057488  0  \n",
       "34042  0.083441  0  \n",
       "34043  0.257405  0  \n",
       "34044 -0.689096  0  \n",
       "34045 -0.013422  0  \n",
       "\n",
       "[34046 rows x 4 columns]"
      ]
     },
     "execution_count": 13,
     "metadata": {},
     "output_type": "execute_result"
    }
   ],
   "source": [
    "df = df[df[1] > 20] \n",
    "\n",
    "mn0=df[2][0]\n",
    "\n",
    "dfactive=df[df[2] > -1.7+2*mn0] \n",
    "\n",
    "dfactive[3]=1\n",
    "\n",
    "dfinactive=df[df[2] < +1.5-mn0] \n",
    "\n",
    "dfinactive[3]=0\n",
    "\n",
    "dftotal=dfactive.append(dfinactive)\n",
    "\n",
    "dftotal=dftotal.reset_index(drop=True)\n",
    "\n",
    "dftotal"
   ]
  },
  {
   "cell_type": "code",
   "execution_count": 14,
   "metadata": {},
   "outputs": [],
   "source": [
    "dftotal = dftotal.sample(frac=1).reset_index(drop=True)"
   ]
  },
  {
   "cell_type": "code",
   "execution_count": 15,
   "metadata": {},
   "outputs": [],
   "source": [
    "df=dftotal"
   ]
  },
  {
   "cell_type": "code",
   "execution_count": 16,
   "metadata": {},
   "outputs": [],
   "source": [
    "df=df.dropna()"
   ]
  },
  {
   "cell_type": "code",
   "execution_count": 17,
   "metadata": {},
   "outputs": [],
   "source": [
    "\n",
    "def tolist(seq):\n",
    "        return seq[0]\n",
    "        \n",
    "df[0] = df.apply(lambda x: tolist(x[0]),axis=1)\n"
   ]
  },
  {
   "cell_type": "code",
   "execution_count": 18,
   "metadata": {},
   "outputs": [],
   "source": [
    "df=df[~df[0].str.contains('M', regex=False)]"
   ]
  },
  {
   "cell_type": "code",
   "execution_count": 19,
   "metadata": {},
   "outputs": [
    {
     "data": {
      "text/html": [
       "<div>\n",
       "<style scoped>\n",
       "    .dataframe tbody tr th:only-of-type {\n",
       "        vertical-align: middle;\n",
       "    }\n",
       "\n",
       "    .dataframe tbody tr th {\n",
       "        vertical-align: top;\n",
       "    }\n",
       "\n",
       "    .dataframe thead th {\n",
       "        text-align: right;\n",
       "    }\n",
       "</style>\n",
       "<table border=\"1\" class=\"dataframe\">\n",
       "  <thead>\n",
       "    <tr style=\"text-align: right;\">\n",
       "      <th></th>\n",
       "      <th>0</th>\n",
       "      <th>1</th>\n",
       "      <th>2</th>\n",
       "      <th>3</th>\n",
       "    </tr>\n",
       "  </thead>\n",
       "  <tbody>\n",
       "    <tr>\n",
       "      <th>0</th>\n",
       "      <td>GCGATCAGGAAGACCCTCGCGGAGAACCTGATAGCACGACATTGTT...</td>\n",
       "      <td>30.553540</td>\n",
       "      <td>-0.036131</td>\n",
       "      <td>0</td>\n",
       "    </tr>\n",
       "    <tr>\n",
       "      <th>1</th>\n",
       "      <td>GCGATCAGGAAGAACCTCGCGGAGAACCTGAAAGCACGACATTGCT...</td>\n",
       "      <td>36.564932</td>\n",
       "      <td>0.907520</td>\n",
       "      <td>1</td>\n",
       "    </tr>\n",
       "    <tr>\n",
       "      <th>2</th>\n",
       "      <td>GCGATCAGGAAGACCCTCGCGGAGAACCTGAAAGCACGACATAGCT...</td>\n",
       "      <td>23.160434</td>\n",
       "      <td>0.016625</td>\n",
       "      <td>0</td>\n",
       "    </tr>\n",
       "    <tr>\n",
       "      <th>3</th>\n",
       "      <td>GCGATCGGGAAGACCCTCGCGGAGAACCTGAAAGCACGACATTGCT...</td>\n",
       "      <td>31.367774</td>\n",
       "      <td>0.146588</td>\n",
       "      <td>0</td>\n",
       "    </tr>\n",
       "    <tr>\n",
       "      <th>4</th>\n",
       "      <td>GCGATCAGGAAGACCCTCGCGGAGAGCCTGAAAGCACGACATTGCT...</td>\n",
       "      <td>42.364713</td>\n",
       "      <td>0.045209</td>\n",
       "      <td>0</td>\n",
       "    </tr>\n",
       "    <tr>\n",
       "      <th>...</th>\n",
       "      <td>...</td>\n",
       "      <td>...</td>\n",
       "      <td>...</td>\n",
       "      <td>...</td>\n",
       "    </tr>\n",
       "    <tr>\n",
       "      <th>34041</th>\n",
       "      <td>GCGATCAGGAAGACCCTCGCGGAGAACCTGAAAGCACGACATTGCT...</td>\n",
       "      <td>65.346856</td>\n",
       "      <td>-0.033152</td>\n",
       "      <td>0</td>\n",
       "    </tr>\n",
       "    <tr>\n",
       "      <th>34042</th>\n",
       "      <td>GCGATCAGGAAGACCCTCGCGGAGAACCTGAAAGCACGACATTGCT...</td>\n",
       "      <td>80.236039</td>\n",
       "      <td>0.859004</td>\n",
       "      <td>1</td>\n",
       "    </tr>\n",
       "    <tr>\n",
       "      <th>34043</th>\n",
       "      <td>GCGATCAGGAAGACCCTCGCGGTGAACCTGAAAGCACGACATTGCT...</td>\n",
       "      <td>98.406244</td>\n",
       "      <td>0.048816</td>\n",
       "      <td>0</td>\n",
       "    </tr>\n",
       "    <tr>\n",
       "      <th>34044</th>\n",
       "      <td>GAGATCAGGAAGACCCTCGCTGAGAACCTGAAAGCACGACATTGCT...</td>\n",
       "      <td>33.860491</td>\n",
       "      <td>0.233385</td>\n",
       "      <td>0</td>\n",
       "    </tr>\n",
       "    <tr>\n",
       "      <th>34045</th>\n",
       "      <td>GCGATCAGGAAGACCCTAGCGGAGATCCTGGAAGCACGACATTGCT...</td>\n",
       "      <td>65.116442</td>\n",
       "      <td>0.206492</td>\n",
       "      <td>0</td>\n",
       "    </tr>\n",
       "  </tbody>\n",
       "</table>\n",
       "<p>34043 rows × 4 columns</p>\n",
       "</div>"
      ],
      "text/plain": [
       "                                                       0          1         2  \\\n",
       "0      GCGATCAGGAAGACCCTCGCGGAGAACCTGATAGCACGACATTGTT...  30.553540 -0.036131   \n",
       "1      GCGATCAGGAAGAACCTCGCGGAGAACCTGAAAGCACGACATTGCT...  36.564932  0.907520   \n",
       "2      GCGATCAGGAAGACCCTCGCGGAGAACCTGAAAGCACGACATAGCT...  23.160434  0.016625   \n",
       "3      GCGATCGGGAAGACCCTCGCGGAGAACCTGAAAGCACGACATTGCT...  31.367774  0.146588   \n",
       "4      GCGATCAGGAAGACCCTCGCGGAGAGCCTGAAAGCACGACATTGCT...  42.364713  0.045209   \n",
       "...                                                  ...        ...       ...   \n",
       "34041  GCGATCAGGAAGACCCTCGCGGAGAACCTGAAAGCACGACATTGCT...  65.346856 -0.033152   \n",
       "34042  GCGATCAGGAAGACCCTCGCGGAGAACCTGAAAGCACGACATTGCT...  80.236039  0.859004   \n",
       "34043  GCGATCAGGAAGACCCTCGCGGTGAACCTGAAAGCACGACATTGCT...  98.406244  0.048816   \n",
       "34044  GAGATCAGGAAGACCCTCGCTGAGAACCTGAAAGCACGACATTGCT...  33.860491  0.233385   \n",
       "34045  GCGATCAGGAAGACCCTAGCGGAGATCCTGGAAGCACGACATTGCT...  65.116442  0.206492   \n",
       "\n",
       "       3  \n",
       "0      0  \n",
       "1      1  \n",
       "2      0  \n",
       "3      0  \n",
       "4      0  \n",
       "...   ..  \n",
       "34041  0  \n",
       "34042  1  \n",
       "34043  0  \n",
       "34044  0  \n",
       "34045  0  \n",
       "\n",
       "[34043 rows x 4 columns]"
      ]
     },
     "execution_count": 19,
     "metadata": {},
     "output_type": "execute_result"
    }
   ],
   "source": [
    "df"
   ]
  },
  {
   "cell_type": "code",
   "execution_count": 20,
   "metadata": {},
   "outputs": [
    {
     "data": {
      "text/plain": [
       "'GCGATCAGGAAGACCCTCGCGGAGAACCTGATAGCACGACATTGTTCACATTGCTTCCAGTATTACTTAGCCTGCCGGGTGCTGGCTTTTTTTTT'"
      ]
     },
     "execution_count": 20,
     "metadata": {},
     "output_type": "execute_result"
    }
   ],
   "source": [
    "df[0][0]"
   ]
  },
  {
   "cell_type": "code",
   "execution_count": 21,
   "metadata": {},
   "outputs": [],
   "source": [
    "s = pd.Series(list(df.iloc[0][0]))\n",
    "h=pd.get_dummies(s)\n",
    "for i in range(1, df.shape[0]):\n",
    "    s1 = pd.Series(list(df.iloc[i][0]))\n",
    "    o1=pd.get_dummies(s1)\n",
    "    h=h.append(o1, ignore_index=True)\n"
   ]
  },
  {
   "cell_type": "code",
   "execution_count": 22,
   "metadata": {},
   "outputs": [],
   "source": [
    "h = np.array(h)\n",
    "h = np.split(h, df.shape[0], axis=0)\n",
    "h = np.array(h)"
   ]
  },
  {
   "cell_type": "code",
   "execution_count": 23,
   "metadata": {},
   "outputs": [
    {
     "data": {
      "text/plain": [
       "(34043, 95, 4)"
      ]
     },
     "execution_count": 23,
     "metadata": {},
     "output_type": "execute_result"
    }
   ],
   "source": [
    "h.shape"
   ]
  },
  {
   "cell_type": "code",
   "execution_count": 24,
   "metadata": {},
   "outputs": [],
   "source": [
    "vals = [1,1,1,1,1,1,1,1,1,1,1,1,1,1,1,1,1,1,1]\n",
    "pos = [(4,30),(5,29),(6,28),(7,27),(8,26),(14,21),(15,20),(31,55),(32,54),(33,53),(34,52),(35,51),(68,86),(69,85),(70,84),(71,83),(72,82),(73,81),(74,80)]\n"
   ]
  },
  {
   "cell_type": "code",
   "execution_count": 25,
   "metadata": {},
   "outputs": [],
   "source": [
    "A=np.zeros((95, 95))\n",
    "for i in range(0, 92):\n",
    "        A[i][i+1]=1\n",
    "        A[i][i+2]=1\n",
    "        A[i][i+3]=1\n",
    "A[92][93]=1\n",
    "A[92][94]=1\n",
    "A[93][94]=1\n",
    "\n",
    "I = np.identity(95)\n",
    "A=A+I\n",
    "\n",
    "\n",
    "for i in pos:\n",
    "    A[i[0]]=0\n",
    "\n",
    "B=np.zeros((95, 95))\n",
    "for i in pos:\n",
    "    B[i[0]][i[0]]=1 #4,4\n",
    "    B[i[0]][i[1]]=1 #4,30\n",
    "    B[i[0]][i[0]+1]=1 #4,5\n",
    "    B[i[0]][i[1]-1]=1 #4,29\n",
    "\n",
    "C=A+B\n",
    "\n",
    "Ad = np.repeat(C[np.newaxis,:, :], df.shape[0], axis=0)"
   ]
  },
  {
   "cell_type": "code",
   "execution_count": 26,
   "metadata": {},
   "outputs": [],
   "source": [
    "u1=df[3].unique()\n",
    "y=np.eye(u1.shape[0])[df[3]]"
   ]
  },
  {
   "cell_type": "code",
   "execution_count": 27,
   "metadata": {},
   "outputs": [
    {
     "data": {
      "text/plain": [
       "(34043, 2)"
      ]
     },
     "execution_count": 27,
     "metadata": {},
     "output_type": "execute_result"
    }
   ],
   "source": [
    "y.shape"
   ]
  },
  {
   "cell_type": "code",
   "execution_count": 188,
   "metadata": {},
   "outputs": [],
   "source": [
    "from sklearn.model_selection import train_test_split\n",
    "x_train, x_test, y_train, y_test, Ad_train, Ad_test = train_test_split(h, y, Ad,test_size=0.1)"
   ]
  },
  {
   "cell_type": "code",
   "execution_count": 189,
   "metadata": {},
   "outputs": [
    {
     "data": {
      "text/plain": [
       "(30638, 2)"
      ]
     },
     "execution_count": 189,
     "metadata": {},
     "output_type": "execute_result"
    }
   ],
   "source": [
    "y_train.shape"
   ]
  },
  {
   "cell_type": "code",
   "execution_count": 190,
   "metadata": {},
   "outputs": [],
   "source": [
    "# this layer averages outputs of GAThead layer according to value of num_heads\n",
    "# gives 1 GAT layer if value of num_heads is 1 \n",
    "\n",
    "class GAT(Layer):\n",
    "    \n",
    "    def __init__(self, F: int, num_heads: int, **kwargs):\n",
    "        super(GAT, self).__init__()\n",
    "\n",
    "        # Number of hidden units for Attention Mechanism\n",
    "        self.F = F\n",
    "\n",
    "        # number of attention heads\n",
    "        self.num_heads = num_heads\n",
    "\n",
    "        # populated by GraphAttentionHead layers\n",
    "        self.attn_heads = []\n",
    "\n",
    "        for _ in range(num_heads):\n",
    "\n",
    "            # get Graph Attention Head layer\n",
    "            attn_head = GAThead(F_dash=F, **kwargs)\n",
    "\n",
    "            self.attn_heads.append(attn_head)\n",
    "\n",
    "    def call(self, inputs):\n",
    "\n",
    "        attention_layers = []\n",
    "\n",
    "        # apply all attention layers to inputs\n",
    "        for layer in self.attn_heads:\n",
    "\n",
    "            attention_layers.append(layer(inputs))\n",
    "            \n",
    "        attn_concat=tf.concat(attention_layers, axis=-1)\n",
    "        \n",
    "        if self.num_heads > 1:\n",
    "            return  attn_concat\n",
    "        else:\n",
    "            return attention_layers[0]"
   ]
  },
  {
   "cell_type": "code",
   "execution_count": 191,
   "metadata": {},
   "outputs": [],
   "source": [
    "# GAT layer returns Attention Adjacency mattention_layersatrix \n",
    "\n",
    "\n",
    "from tensorflow.keras.layers import Average, Layer, Flatten, Reshape, Conv1D\n",
    "from tensorflow.keras import initializers, regularizers\n",
    "from tensorflow.keras.layers import Dropout, LeakyReLU\n",
    "from tensorflow.keras import Model\n",
    "\n",
    "class GAThead(Layer):\n",
    "    \n",
    "    def __init__(\n",
    "        self,\n",
    "        F_dash: 4,\n",
    "        weight_initializer=\"glorot_uniform\",\n",
    "        attn_vector_initializer=\"glorot_uniform\",\n",
    "        bias_initializer= \"Zeros\",\n",
    "        weight_regularizer=None,\n",
    "        attn_vector_regularizer=None,\n",
    "        bias_regularizer= None,\n",
    "        **kwargs\n",
    "    ):\n",
    "        super(GAThead, self).__init__()\n",
    "\n",
    "        # Number of output features \n",
    "        self.F_dash = F_dash\n",
    "        \n",
    "        # storing initializers\n",
    "        self.weight_initializer = initializers.get(weight_initializer)\n",
    "        self.attn_vector_initializer = initializers.get(attn_vector_initializer)\n",
    "        self.bias_initializer= initializers.get(bias_initializer)\n",
    "\n",
    "        # storing regularizes\n",
    "        self.weight_regularizer = regularizers.get(weight_regularizer)\n",
    "        self.attn_vector_regularizer = regularizers.get(attn_vector_regularizer)\n",
    "        self.bias_regularizer = regularizers.get(bias_regularizer)\n",
    "        \n",
    "    def build(self, input_shape):\n",
    "        \n",
    "        # we expect the input to be (Graph signal, Adjacency matrix)\n",
    "        # Number of features per node\n",
    "        self.F = input_shape[0][-1]\n",
    "            \n",
    "       \n",
    "        # initializing Weight\n",
    "        # W in paper\n",
    "        self.W = self.add_weight(\n",
    "            shape=(self.F, self.F_dash),\n",
    "            initializer=self.weight_initializer,\n",
    "            regularizer=self.weight_regularizer,\n",
    "            name=\"attention_weight\",\n",
    "            trainable=True,\n",
    "        )\n",
    "        \n",
    "    \n",
    "       # initializing attention vectors 1 and 2 \n",
    "        self.attn_1 = self.add_weight(\n",
    "            shape=(self.F_dash, 1),\n",
    "            initializer=self.attn_vector_initializer,\n",
    "            regularizer=self.attn_vector_regularizer,\n",
    "            name=\"attention_1\",\n",
    "            trainable=True,\n",
    "        )\n",
    "        self.attn_2 = self.add_weight(\n",
    "            shape=(self.F_dash, 1),\n",
    "            initializer=self.attn_vector_initializer,\n",
    "            regularizer=self.attn_vector_regularizer,\n",
    "            name=\"attention_2\",\n",
    "            trainable=True,\n",
    "        )\n",
    "        \n",
    "        \n",
    "#         self.attn_3 = self.add_weight(\n",
    "#             shape=(self.F_dash, 95),\n",
    "#             initializer=self.attn_vector_initializer,\n",
    "#             regularizer=self.attn_vector_regularizer,\n",
    "#             name=\"attention_3\",\n",
    "#             trainable=True,\n",
    "#         )\n",
    "\n",
    "    def call(self, inputs):\n",
    "\n",
    "        # get graph signal corresponding adjacency matrix\n",
    "        X, E = inputs\n",
    "        \n",
    "        #features matrix (N x F')\n",
    "        X_trans = tf.matmul(X, self.W)\n",
    "\n",
    "        # getting attention vectors and attention head as per paper \n",
    "        a1 = tf.matmul(X_trans, self.attn_1)  # (N x 1)\n",
    "\n",
    "        a2 = tf.matmul(X_trans, self.attn_2)  #(N x 1)\n",
    "        \n",
    "        \n",
    "        A = a1 + tf.transpose(a2, perm=[0, 2, 1])\n",
    "        \n",
    "        \n",
    "        # apply non linearity (as in paper: LeakyReLU with a=0.2)\n",
    "        A = LeakyReLU(alpha=0.2)(A) \n",
    "        \n",
    "       \n",
    "        #  masking the values before applying softmax, this will give '0' for nodes which are not connected\n",
    "        mask = -10e9 * (1.0 - E)\n",
    "        A += mask\n",
    "        #applying softmax\n",
    "        A = tf.nn.softmax(A)  # (N x N)\n",
    "        \n",
    "    \n",
    "        #applying softmax\n",
    "       \n",
    "        \n",
    "        \n",
    "        #dropout_A = Dropout(0.5)(A)  # (N x N)\n",
    "        #dropout_Xtrans = Dropout(0.5)( X_trans)  # (N x F')\n",
    "        \n",
    "        node_features = tf.matmul(A, X_trans)\n",
    "        \n",
    "        node_features2 = tf.matmul(A,node_features)\n",
    "        \n",
    "        # return attention adjacency matrix \n",
    "        return node_features2"
   ]
  },
  {
   "cell_type": "code",
   "execution_count": 228,
   "metadata": {
    "scrolled": false
   },
   "outputs": [
    {
     "name": "stdout",
     "output_type": "stream",
     "text": [
      "trainable weights: 20\n",
      "Model: \"functional_49\"\n",
      "__________________________________________________________________________________________________\n",
      "Layer (type)                    Output Shape         Param #     Connected to                     \n",
      "==================================================================================================\n",
      "graph (InputLayer)              [(None, 95, 4)]      0                                            \n",
      "__________________________________________________________________________________________________\n",
      "adjacency (InputLayer)          [(None, 95, 95)]     0                                            \n",
      "__________________________________________________________________________________________________\n",
      "gat_25 (GAT)                    (None, 95, 24)       144         graph[0][0]                      \n",
      "                                                                 adjacency[0][0]                  \n",
      "__________________________________________________________________________________________________\n",
      "flatten_25 (Flatten)            (None, 2280)         0           gat_25[0][0]                     \n",
      "__________________________________________________________________________________________________\n",
      "Dense (Dense)                   (None, 2)            4562        flatten_25[0][0]                 \n",
      "==================================================================================================\n",
      "Total params: 4,706\n",
      "Trainable params: 4,706\n",
      "Non-trainable params: 0\n",
      "__________________________________________________________________________________________________\n"
     ]
    }
   ],
   "source": [
    "#Final Training of the model \n",
    "from keras.layers import LSTM\n",
    "#passsing the graphs\n",
    "graph = x_train\n",
    "\n",
    "#passing adjacency matrix\n",
    "adjacency = Ad_train\n",
    "\n",
    "# inputs to GraphAttentionLayer\n",
    "X = Input(shape=(95, 4), name=\"graph\")\n",
    "E = Input(shape=(95, 95), name=\"adjacency\")\n",
    "\n",
    "\n",
    "# Pass the graph and adjacencies as a tuple.\n",
    "# The graph goes first \n",
    "# Keras functional API model \n",
    "y1 = GAT(4,6)((X, E))\n",
    "y2= Flatten()(y1)\n",
    "#y3= Reshape((2280, 1))(y2)\n",
    "#y4 = Conv1D (2,4, strides=4,activation = 'relu')(y3)\n",
    "#y5= Reshape((1140,))(y4)\n",
    "#y5= Dense(18,activation = 'relu',name='Dense1')(y2)\n",
    "\n",
    "y6 = Dense(2,activation = 'softmax',name='Dense',kernel_regularizer=tf.keras.regularizers.L1(0.002),\n",
    "    activity_regularizer=tf.keras.regularizers.L2(0.01))(y2)\n",
    "# defining model\n",
    "model = Model(inputs=[X, E], outputs=y6)\n",
    "\n",
    "\n",
    "#checking trainable weights \n",
    "print('trainable weights:', len(model.trainable_weights))\n",
    "\n",
    "model.compile(loss='categorical_crossentropy', optimizer='adam', metrics=['accuracy'])\n",
    "\n",
    "model.summary()\n",
    "\n",
    "\n",
    "\n",
    "\n",
    "\n"
   ]
  },
  {
   "cell_type": "code",
   "execution_count": 229,
   "metadata": {
    "scrolled": false
   },
   "outputs": [
    {
     "name": "stdout",
     "output_type": "stream",
     "text": [
      "Epoch 1/5\n",
      "958/958 [==============================] - 14s 14ms/step - loss: 0.6478 - accuracy: 0.6925\n",
      "Epoch 2/5\n",
      "958/958 [==============================] - 14s 14ms/step - loss: 0.5580 - accuracy: 0.7393\n",
      "Epoch 3/5\n",
      "958/958 [==============================] - 14s 14ms/step - loss: 0.5409 - accuracy: 0.7537\n",
      "Epoch 4/5\n",
      "958/958 [==============================] - 15s 15ms/step - loss: 0.5213 - accuracy: 0.7788\n",
      "Epoch 5/5\n",
      "958/958 [==============================] - 14s 15ms/step - loss: 0.5033 - accuracy: 0.7993\n"
     ]
    }
   ],
   "source": [
    "#Training\n",
    "history=model.fit({'graph': x_train, 'adjacency': Ad_train},\n",
    "          {'Dense': y_train},\n",
    "          epochs=5,\n",
    "          batch_size=32)"
   ]
  },
  {
   "cell_type": "code",
   "execution_count": 230,
   "metadata": {},
   "outputs": [
    {
     "name": "stdout",
     "output_type": "stream",
     "text": [
      "107/107 [==============================] - 1s 5ms/step - loss: 0.4993 - accuracy: 0.8200\n",
      "Test set\n",
      "  Loss: 0.499\n",
      "  Accuracy: 0.820\n"
     ]
    }
   ],
   "source": [
    "#Testing\n",
    "accr=model.evaluate({'graph': x_test, 'adjacency': Ad_test},\n",
    "          {'Dense': y_test})\n",
    "print('Test set\\n  Loss: {:0.3f}\\n  Accuracy: {:0.3f}'.format(accr[0],accr[1]))"
   ]
  },
  {
   "cell_type": "code",
   "execution_count": 231,
   "metadata": {},
   "outputs": [],
   "source": [
    "mnl = np.arange(0,24).reshape(8,3)"
   ]
  },
  {
   "cell_type": "code",
   "execution_count": 232,
   "metadata": {},
   "outputs": [
    {
     "data": {
      "text/plain": [
       "array([[ 0,  1,  2],\n",
       "       [ 3,  4,  5],\n",
       "       [ 6,  7,  8],\n",
       "       [ 9, 10, 11],\n",
       "       [12, 13, 14],\n",
       "       [15, 16, 17],\n",
       "       [18, 19, 20],\n",
       "       [21, 22, 23]])"
      ]
     },
     "execution_count": 232,
     "metadata": {},
     "output_type": "execute_result"
    }
   ],
   "source": [
    "mnl"
   ]
  },
  {
   "cell_type": "code",
   "execution_count": 233,
   "metadata": {},
   "outputs": [
    {
     "data": {
      "text/plain": [
       "array([ 0,  1,  2,  3,  4,  5,  6,  7,  8,  9, 10, 11, 12, 13, 14, 15, 16,\n",
       "       17, 18, 19, 20, 21, 22, 23])"
      ]
     },
     "execution_count": 233,
     "metadata": {},
     "output_type": "execute_result"
    }
   ],
   "source": [
    "mnl.flatten()"
   ]
  },
  {
   "cell_type": "code",
   "execution_count": 234,
   "metadata": {},
   "outputs": [],
   "source": [
    "gat=model.layers[2].get_weights()"
   ]
  },
  {
   "cell_type": "code",
   "execution_count": 235,
   "metadata": {},
   "outputs": [],
   "source": [
    "den=model.layers[4].get_weights()"
   ]
  },
  {
   "cell_type": "code",
   "execution_count": 236,
   "metadata": {},
   "outputs": [
    {
     "data": {
      "text/plain": [
       "(2280, 2)"
      ]
     },
     "execution_count": 236,
     "metadata": {},
     "output_type": "execute_result"
    }
   ],
   "source": [
    "den[0].shape"
   ]
  },
  {
   "cell_type": "code",
   "execution_count": 237,
   "metadata": {},
   "outputs": [],
   "source": [
    "k1c= np.stack((den[0][0::24,0], den[0][4::24,0],  den[0][8::24,0],den[0][12::24,0],den[0][16::24,0], den[0][20::24,0]), axis=0)"
   ]
  },
  {
   "cell_type": "code",
   "execution_count": 238,
   "metadata": {},
   "outputs": [],
   "source": [
    "#den1=np.transpose(np.reshape(den[0][:,1],(95,8)))"
   ]
  },
  {
   "cell_type": "code",
   "execution_count": 239,
   "metadata": {},
   "outputs": [
    {
     "data": {
      "image/png": "[encoded data removed]",
      "text/plain": [
       "<Figure size 2160x360 with 2 Axes>"
      ]
     },
     "metadata": {
      "needs_background": "light"
     },
     "output_type": "display_data"
    }
   ],
   "source": [
    "\n",
    "# k1c_min, k1c_max = k1c.min(), k1c.max()\n",
    "# k1c = (k1c - k1c_min) / (k1c.max() - k1c_min)\n",
    "plt.figure(figsize=(30,5)) \n",
    "ax = sns.heatmap(k1c, cmap=\"Blues\", xticklabels=2, yticklabels=1)\n",
    "\n",
    "\n"
   ]
  },
  {
   "cell_type": "code",
   "execution_count": 240,
   "metadata": {},
   "outputs": [],
   "source": [
    "k0c= np.stack((den[0][1::24,0], den[0][5::24,0],  den[0][9::24,0],den[0][13::24,0],den[0][17::24,0], den[0][21::24,0]), axis=0)"
   ]
  },
  {
   "cell_type": "code",
   "execution_count": 241,
   "metadata": {},
   "outputs": [
    {
     "data": {
      "image/png": "[encoded data removed]",
      "text/plain": [
       "<Figure size 2160x360 with 2 Axes>"
      ]
     },
     "metadata": {
      "needs_background": "light"
     },
     "output_type": "display_data"
    }
   ],
   "source": [
    "plt.figure(figsize=(30,5)) \n",
    "ax = sns.heatmap(k0c, cmap=\"Blues\", xticklabels=2, yticklabels=1)\n",
    "\n",
    "\n"
   ]
  },
  {
   "cell_type": "code",
   "execution_count": 242,
   "metadata": {},
   "outputs": [],
   "source": [
    "k2c= np.stack((den[0][2::24,0], den[0][6::24,0],  den[0][10::24,0],den[0][14::24,0],den[0][18::24,0], den[0][22::24,0]), axis=0)"
   ]
  },
  {
   "cell_type": "code",
   "execution_count": 243,
   "metadata": {},
   "outputs": [
    {
     "data": {
      "image/png": "[encoded data removed]",
      "text/plain": [
       "<Figure size 2160x360 with 2 Axes>"
      ]
     },
     "metadata": {
      "needs_background": "light"
     },
     "output_type": "display_data"
    }
   ],
   "source": [
    "plt.figure(figsize=(30,5)) \n",
    "ax = sns.heatmap(k2c, cmap=\"Blues\", xticklabels=2, yticklabels=1)\n"
   ]
  },
  {
   "cell_type": "code",
   "execution_count": 220,
   "metadata": {},
   "outputs": [],
   "source": [
    "# 5 filters"
   ]
  },
  {
   "cell_type": "code",
   "execution_count": 61,
   "metadata": {},
   "outputs": [
    {
     "name": "stdout",
     "output_type": "stream",
     "text": [
      "trainable weights: 7\n",
      "Model: \"functional_25\"\n",
      "__________________________________________________________________________________________________\n",
      "Layer (type)                    Output Shape         Param #     Connected to                     \n",
      "==================================================================================================\n",
      "graph (InputLayer)              [(None, 95, 4)]      0                                            \n",
      "__________________________________________________________________________________________________\n",
      "adjacency (InputLayer)          [(None, 95, 95)]     0                                            \n",
      "__________________________________________________________________________________________________\n",
      "gat_13 (GAT)                    (None, 95, 4)        24          graph[0][0]                      \n",
      "                                                                 adjacency[0][0]                  \n",
      "__________________________________________________________________________________________________\n",
      "flatten_13 (Flatten)            (None, 380)          0           gat_13[0][0]                     \n",
      "__________________________________________________________________________________________________\n",
      "reshape_15 (Reshape)            (None, 380, 1)       0           flatten_13[0][0]                 \n",
      "__________________________________________________________________________________________________\n",
      "conv1d_7 (Conv1D)               (None, 95, 5)        25          reshape_15[0][0]                 \n",
      "__________________________________________________________________________________________________\n",
      "reshape_16 (Reshape)            (None, 475)          0           conv1d_7[0][0]                   \n",
      "__________________________________________________________________________________________________\n",
      "Dense (Dense)                   (None, 2)            952         reshape_16[0][0]                 \n",
      "==================================================================================================\n",
      "Total params: 1,001\n",
      "Trainable params: 1,001\n",
      "Non-trainable params: 0\n",
      "__________________________________________________________________________________________________\n",
      "Epoch 1/10\n",
      "958/958 [==============================] - 4s 4ms/step - loss: 0.6408 - accuracy: 0.6747\n",
      "Epoch 2/10\n",
      "958/958 [==============================] - 4s 4ms/step - loss: 0.5761 - accuracy: 0.6909\n",
      "Epoch 3/10\n",
      "958/958 [==============================] - 4s 4ms/step - loss: 0.5237 - accuracy: 0.7424\n",
      "Epoch 4/10\n",
      "958/958 [==============================] - 4s 4ms/step - loss: 0.4835 - accuracy: 0.7966\n",
      "Epoch 5/10\n",
      "958/958 [==============================] - 5s 5ms/step - loss: 0.4491 - accuracy: 0.8316\n",
      "Epoch 6/10\n",
      "958/958 [==============================] - 5s 5ms/step - loss: 0.4215 - accuracy: 0.8568\n",
      "Epoch 7/10\n",
      "958/958 [==============================] - 5s 5ms/step - loss: 0.4016 - accuracy: 0.8692\n",
      "Epoch 8/10\n",
      "958/958 [==============================] - 5s 5ms/step - loss: 0.3867 - accuracy: 0.8779\n",
      "Epoch 9/10\n",
      "958/958 [==============================] - 4s 5ms/step - loss: 0.3742 - accuracy: 0.8858\n",
      "Epoch 10/10\n",
      "958/958 [==============================] - 5s 5ms/step - loss: 0.3656 - accuracy: 0.8917\n",
      "107/107 [==============================] - 0s 2ms/step - loss: 0.3594 - accuracy: 0.8966\n",
      "Test set\n",
      "  Loss: 0.359\n",
      "  Accuracy: 0.897\n"
     ]
    }
   ],
   "source": [
    "#Final Training of the model \n",
    "from keras.layers import LSTM\n",
    "#passsing the graphs\n",
    "graph = x_train\n",
    "\n",
    "#passing adjacency matrix\n",
    "adjacency = Ad_train\n",
    "\n",
    "# inputs to GraphAttentionLayer\n",
    "X = Input(shape=(95, 4), name=\"graph\")\n",
    "E = Input(shape=(95, 95), name=\"adjacency\")\n",
    "\n",
    "\n",
    "# Pass the graph and adjacencies as a tuple.\n",
    "# The graph goes first \n",
    "# Keras functional API model \n",
    "y1 = GAT(4,1)((X, E))\n",
    "y2= Flatten()(y1)\n",
    "y3= Reshape((380, 1))(y2)\n",
    "y4 = Conv1D (5,4, strides=4,activation = 'relu')(y3)\n",
    "y5= Reshape((475,))(y4)\n",
    "y6 = Dense(2,activation = 'softmax',name='Dense',kernel_regularizer=tf.keras.regularizers.L1(0.001),\n",
    "    activity_regularizer=tf.keras.regularizers.L2(0.01))(y5)\n",
    "# defining model\n",
    "model = Model(inputs=[X, E], outputs=y6)\n",
    "\n",
    "\n",
    "#checking trainable weights \n",
    "print('trainable weights:', len(model.trainable_weights))\n",
    "\n",
    "model.compile(loss='categorical_crossentropy', optimizer='adam', metrics=['accuracy'])\n",
    "\n",
    "model.summary()\n",
    "\n",
    "\n",
    "#Training\n",
    "history=model.fit({'graph': x_train, 'adjacency': Ad_train},\n",
    "          {'Dense': y_train},\n",
    "          epochs=10,\n",
    "          batch_size=32)\n",
    "\n",
    "#Testing\n",
    "accr=model.evaluate({'graph': x_test, 'adjacency': Ad_test},\n",
    "          {'Dense': y_test})\n",
    "print('Test set\\n  Loss: {:0.3f}\\n  Accuracy: {:0.3f}'.format(accr[0],accr[1]))\n",
    "\n"
   ]
  },
  {
   "cell_type": "code",
   "execution_count": 64,
   "metadata": {
    "scrolled": true
   },
   "outputs": [
    {
     "data": {
      "image/png": "[encoded data removed]",
      "text/plain": [
       "<Figure size 2160x360 with 2 Axes>"
      ]
     },
     "metadata": {
      "needs_background": "light"
     },
     "output_type": "display_data"
    }
   ],
   "source": [
    "den=model.layers[7].get_weights()\n",
    "\n",
    "\n",
    "\n",
    "k1c= np.stack((den[0][0::5,0], den[0][1::5,0],  den[0][2::5,0],den[0][3::5,0],den[0][4::5,0]), axis=0)\n",
    "#k1c_min, k1c_max = k1c.min(), k1c.max()\n",
    "#k1c = (k1c - k1c_min) / (k1c.max() - k1c_min)\n",
    "\n",
    "ax = plt.figure(figsize=(30,5)) \n",
    "ax = sns.heatmap(k1c, cmap=\"Blues\", xticklabels=5, yticklabels=1)"
   ]
  },
  {
   "cell_type": "code",
   "execution_count": 57,
   "metadata": {},
   "outputs": [
    {
     "data": {
      "image/png": "[encoded data removed]",
      "text/plain": [
       "<Figure size 2160x360 with 2 Axes>"
      ]
     },
     "metadata": {
      "needs_background": "light"
     },
     "output_type": "display_data"
    }
   ],
   "source": [
    "k1c= np.stack((den[0][0::5,1], den[0][1::5,1],  den[0][2::5,1],den[0][3::5,1],den[0][4::5,1]), axis=0)\n",
    "k1c_min, k1c_max = k1c.min(), k1c.max()\n",
    "k1c = (k1c - k1c_min) / (k1c.max() - k1c_min)\n",
    "\n",
    "ax = plt.figure(figsize=(30,5)) \n",
    "ax = sns.heatmap(k1c, cmap=\"Blues\", xticklabels=5, yticklabels=1)"
   ]
  },
  {
   "cell_type": "code",
   "execution_count": null,
   "metadata": {},
   "outputs": [],
   "source": []
  }
 ],
 "metadata": {
  "kernelspec": {
   "display_name": "Python 3",
   "language": "python",
   "name": "python3"
  },
  "language_info": {
   "codemirror_mode": {
    "name": "ipython",
    "version": 3
   },
   "file_extension": ".py",
   "mimetype": "text/x-python",
   "name": "python",
   "nbconvert_exporter": "python",
   "pygments_lexer": "ipython3",
   "version": "3.8.3"
  }
 },
 "nbformat": 4,
 "nbformat_minor": 4
}
